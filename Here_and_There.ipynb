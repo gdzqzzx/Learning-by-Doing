{
  "nbformat": 4,
  "nbformat_minor": 0,
  "metadata": {
    "colab": {
      "name": "Here_and_There.ipynb",
      "provenance": [],
      "collapsed_sections": [],
      "toc_visible": true,
      "include_colab_link": true
    },
    "kernelspec": {
      "name": "python3",
      "display_name": "Python 3"
    }
  },
  "cells": [
    {
      "cell_type": "markdown",
      "metadata": {
        "id": "view-in-github",
        "colab_type": "text"
      },
      "source": [
        "<a href=\"https://colab.research.google.com/github/gdzqzzx/Learning-by-Doing/blob/master/Here_and_There.ipynb\" target=\"_parent\"><img src=\"https://colab.research.google.com/assets/colab-badge.svg\" alt=\"Open In Colab\"/></a>"
      ]
    },
    {
      "cell_type": "markdown",
      "metadata": {
        "id": "mQTvyF7RJbLP"
      },
      "source": [
        "## Setting and Importing"
      ]
    },
    {
      "cell_type": "code",
      "metadata": {
        "id": "UemkIHy6Bru6",
        "colab": {
          "base_uri": "https://localhost:8080/"
        },
        "outputId": "ab6a5983-fee2-480f-eb87-5ed61c5b75ab"
      },
      "source": [
        "!pip install wget\n",
        "\n",
        "import pandas as pd\n",
        "import numpy as np\n",
        "import sklearn\n",
        "import collections\n",
        "import wget\n",
        "from google.colab import files\n",
        "from dateutil import rrule\n",
        "from datetime import datetime"
      ],
      "execution_count": null,
      "outputs": [
        {
          "output_type": "stream",
          "text": [
            "Collecting wget\n",
            "  Downloading https://files.pythonhosted.org/packages/47/6a/62e288da7bcda82b935ff0c6cfe542970f04e29c756b0e147251b2fb251f/wget-3.2.zip\n",
            "Building wheels for collected packages: wget\n",
            "  Building wheel for wget (setup.py) ... \u001b[?25l\u001b[?25hdone\n",
            "  Created wheel for wget: filename=wget-3.2-cp37-none-any.whl size=9681 sha256=1138948fe78836f87de537ae1bc1eb724872d37c001a60eb4e7331433b58b20d\n",
            "  Stored in directory: /root/.cache/pip/wheels/40/15/30/7d8f7cea2902b4db79e3fea550d7d7b85ecb27ef992b618f3f\n",
            "Successfully built wget\n",
            "Installing collected packages: wget\n",
            "Successfully installed wget-3.2\n"
          ],
          "name": "stdout"
        }
      ]
    },
    {
      "cell_type": "markdown",
      "metadata": {
        "id": "okwwvrG5RMPv"
      },
      "source": [
        "## Daily Tricks"
      ]
    },
    {
      "cell_type": "markdown",
      "metadata": {
        "id": "KNO-9Uj_RQ7F"
      },
      "source": [
        "### The Economist Audio Edition\n",
        "\n",
        "[How to calculate difference between two dates in weeks in python](https://stackoverflow.com/questions/14191832/how-to-calculate-difference-between-two-dates-in-weeks-in-python)"
      ]
    },
    {
      "cell_type": "code",
      "metadata": {
        "id": "YYNaWgudUHtv"
      },
      "source": [
        "def getEcoAudio(year, month, day, url_only = True):\n",
        "    issue_date = datetime(year, month, day)\n",
        "    origin = datetime(2021, 4, 10)\n",
        "\n",
        "\n",
        "    if issue_date >= origin:\n",
        "        start_date = origin\n",
        "        end_date = issue_date\n",
        "        sign = 1\n",
        "    else:\n",
        "        start_date = issue_date\n",
        "        end_date = origin\n",
        "        sign = -1\n",
        "    weeks = rrule.rrule(rrule.WEEKLY, dtstart=start_date, until=end_date)\n",
        "    delta = sign * (weeks.count() - 1)\n",
        "\n",
        "    download_url = \"http://audiocdn.economist.com/sites/default/files/AudioArchive/{year}/{date}/Issue_{issue}_{date}_The_Economist_Full_edition.zip\".format(\n",
        "        year = str(issue_date.year),\n",
        "        date = issue_date.strftime(\"%Y%m%d\"),\n",
        "        issue = str(9240+delta)\n",
        "    )\n",
        "\n",
        "    print(download_url)\n",
        "    if url_only:\n",
        "        return\n",
        "    wget.download(download_url)\n",
        "    print(\"Download Finished!\")\n",
        "    files.download(download_url.split(\"/\")[-1])"
      ],
      "execution_count": null,
      "outputs": []
    },
    {
      "cell_type": "code",
      "metadata": {
        "colab": {
          "base_uri": "https://localhost:8080/"
        },
        "id": "1HlIFro-Rcrr",
        "outputId": "01b59f4a-783b-4a3b-ed3e-48b1a9c2f2c0"
      },
      "source": [
        "year = 2021\n",
        "month = 5\n",
        "day = 22\n",
        "\n",
        "getEcoAudio(year, month, day)"
      ],
      "execution_count": null,
      "outputs": [
        {
          "output_type": "stream",
          "text": [
            "http://audiocdn.economist.com/sites/default/files/AudioArchive/2021/20210522/Issue_9246_20210522_The_Economist_Full_edition.zip\n"
          ],
          "name": "stdout"
        }
      ]
    },
    {
      "cell_type": "code",
      "metadata": {
        "id": "JSwYu5TIRTjb"
      },
      "source": [
        ""
      ],
      "execution_count": null,
      "outputs": []
    },
    {
      "cell_type": "markdown",
      "metadata": {
        "id": "mwUUhiZcFomk"
      },
      "source": [
        "# Pandas + Numpy"
      ]
    },
    {
      "cell_type": "markdown",
      "metadata": {
        "id": "D4tBuZebgmp1"
      },
      "source": [
        "### 1. Split the text and assign new column names to new columns\n",
        "<font size=3.5>\n",
        "I want to analyze a string and split it into different rows in Excel based on conditions.\n",
        "\n",
        "Condition 1:\n",
        "Before \"ATF\", it's \"Trustee\"\n",
        "\n",
        "Condition 2:\n",
        "After \"ATF\", it's \"Investor\"\n",
        "\n",
        "Condition 3:\n",
        "If there is an \"&\", there are two \"Trustee\"\n",
        "\n",
        "AC:\n",
        "1. split the text into rows\n",
        "2. no spaces before and after the string\n",
        "3. Each name, assign a role\n",
        "    \n",
        "</font>"
      ]
    },
    {
      "cell_type": "code",
      "metadata": {
        "id": "8PsqZfa4IKW3",
        "colab": {
          "base_uri": "https://localhost:8080/",
          "height": 142
        },
        "outputId": "f6d4b8dc-7e8c-406c-c827-2ae04ebf89dd"
      },
      "source": [
        "import pandas as pd\n",
        "\n",
        "# Construct demo input\n",
        "qdf = pd.DataFrame([\"Johnson & Yvonne ATF Chen Family Superannuation Fund\",\n",
        "                   \"Tom & Jerry & Micky ATF Miaomiao\",\n",
        "                   \"Pluto ATF Wangwang\"], columns=['raw'])\n",
        "# split raw text into investor part and trustee part\n",
        "qdf = qdf.join(qdf['raw'].str.split(\"ATF\", expand=True).rename(columns={0: \"Trustee\", 1:\"Investor\"}))\n",
        "# split trustee part into multiple trustees\n",
        "qdf = qdf.join(qdf['Trustee'].str.split(\"&\",expand=True).add_prefix(\"Trustee.\")).drop(\"Trustee\", axis=1)\n",
        "qdf"
      ],
      "execution_count": null,
      "outputs": [
        {
          "output_type": "execute_result",
          "data": {
            "text/html": [
              "<div>\n",
              "<style scoped>\n",
              "    .dataframe tbody tr th:only-of-type {\n",
              "        vertical-align: middle;\n",
              "    }\n",
              "\n",
              "    .dataframe tbody tr th {\n",
              "        vertical-align: top;\n",
              "    }\n",
              "\n",
              "    .dataframe thead th {\n",
              "        text-align: right;\n",
              "    }\n",
              "</style>\n",
              "<table border=\"1\" class=\"dataframe\">\n",
              "  <thead>\n",
              "    <tr style=\"text-align: right;\">\n",
              "      <th></th>\n",
              "      <th>raw</th>\n",
              "      <th>Investor</th>\n",
              "      <th>Trustee.0</th>\n",
              "      <th>Trustee.1</th>\n",
              "      <th>Trustee.2</th>\n",
              "    </tr>\n",
              "  </thead>\n",
              "  <tbody>\n",
              "    <tr>\n",
              "      <th>0</th>\n",
              "      <td>Johnson &amp; Yvonne ATF Chen Family Superannuatio...</td>\n",
              "      <td>Chen Family Superannuation Fund</td>\n",
              "      <td>Johnson</td>\n",
              "      <td>Yvonne</td>\n",
              "      <td>None</td>\n",
              "    </tr>\n",
              "    <tr>\n",
              "      <th>1</th>\n",
              "      <td>Tom &amp; Jerry &amp; Micky ATF Miaomiao</td>\n",
              "      <td>Miaomiao</td>\n",
              "      <td>Tom</td>\n",
              "      <td>Jerry</td>\n",
              "      <td>Micky</td>\n",
              "    </tr>\n",
              "    <tr>\n",
              "      <th>2</th>\n",
              "      <td>Pluto ATF Wangwang</td>\n",
              "      <td>Wangwang</td>\n",
              "      <td>Pluto</td>\n",
              "      <td>None</td>\n",
              "      <td>None</td>\n",
              "    </tr>\n",
              "  </tbody>\n",
              "</table>\n",
              "</div>"
            ],
            "text/plain": [
              "                                                 raw  ... Trustee.2\n",
              "0  Johnson & Yvonne ATF Chen Family Superannuatio...  ...      None\n",
              "1                   Tom & Jerry & Micky ATF Miaomiao  ...    Micky \n",
              "2                                 Pluto ATF Wangwang  ...      None\n",
              "\n",
              "[3 rows x 5 columns]"
            ]
          },
          "metadata": {
            "tags": []
          },
          "execution_count": 89
        }
      ]
    },
    {
      "cell_type": "code",
      "metadata": {
        "id": "PAqkB73UXPOU",
        "colab": {
          "base_uri": "https://localhost:8080/",
          "height": 421
        },
        "outputId": "a2166257-fa6a-493a-a6a2-55f148105917"
      },
      "source": [
        "qdf.stack().to_frame()"
      ],
      "execution_count": null,
      "outputs": [
        {
          "output_type": "execute_result",
          "data": {
            "text/html": [
              "<div>\n",
              "<style scoped>\n",
              "    .dataframe tbody tr th:only-of-type {\n",
              "        vertical-align: middle;\n",
              "    }\n",
              "\n",
              "    .dataframe tbody tr th {\n",
              "        vertical-align: top;\n",
              "    }\n",
              "\n",
              "    .dataframe thead th {\n",
              "        text-align: right;\n",
              "    }\n",
              "</style>\n",
              "<table border=\"1\" class=\"dataframe\">\n",
              "  <thead>\n",
              "    <tr style=\"text-align: right;\">\n",
              "      <th></th>\n",
              "      <th></th>\n",
              "      <th>0</th>\n",
              "    </tr>\n",
              "  </thead>\n",
              "  <tbody>\n",
              "    <tr>\n",
              "      <th rowspan=\"4\" valign=\"top\">0</th>\n",
              "      <th>raw</th>\n",
              "      <td>Johnson &amp; Yvonne ATF Chen Family Superannuatio...</td>\n",
              "    </tr>\n",
              "    <tr>\n",
              "      <th>Investor</th>\n",
              "      <td>Chen Family Superannuation Fund</td>\n",
              "    </tr>\n",
              "    <tr>\n",
              "      <th>Trustee.0</th>\n",
              "      <td>Johnson</td>\n",
              "    </tr>\n",
              "    <tr>\n",
              "      <th>Trustee.1</th>\n",
              "      <td>Yvonne</td>\n",
              "    </tr>\n",
              "    <tr>\n",
              "      <th rowspan=\"5\" valign=\"top\">1</th>\n",
              "      <th>raw</th>\n",
              "      <td>Tom &amp; Jerry &amp; Micky ATF Miaomiao</td>\n",
              "    </tr>\n",
              "    <tr>\n",
              "      <th>Investor</th>\n",
              "      <td>Miaomiao</td>\n",
              "    </tr>\n",
              "    <tr>\n",
              "      <th>Trustee.0</th>\n",
              "      <td>Tom</td>\n",
              "    </tr>\n",
              "    <tr>\n",
              "      <th>Trustee.1</th>\n",
              "      <td>Jerry</td>\n",
              "    </tr>\n",
              "    <tr>\n",
              "      <th>Trustee.2</th>\n",
              "      <td>Micky</td>\n",
              "    </tr>\n",
              "    <tr>\n",
              "      <th rowspan=\"3\" valign=\"top\">2</th>\n",
              "      <th>raw</th>\n",
              "      <td>Pluto ATF Wangwang</td>\n",
              "    </tr>\n",
              "    <tr>\n",
              "      <th>Investor</th>\n",
              "      <td>Wangwang</td>\n",
              "    </tr>\n",
              "    <tr>\n",
              "      <th>Trustee.0</th>\n",
              "      <td>Pluto</td>\n",
              "    </tr>\n",
              "  </tbody>\n",
              "</table>\n",
              "</div>"
            ],
            "text/plain": [
              "                                                             0\n",
              "0 raw        Johnson & Yvonne ATF Chen Family Superannuatio...\n",
              "  Investor                     Chen Family Superannuation Fund\n",
              "  Trustee.0                                           Johnson \n",
              "  Trustee.1                                            Yvonne \n",
              "1 raw                         Tom & Jerry & Micky ATF Miaomiao\n",
              "  Investor                                            Miaomiao\n",
              "  Trustee.0                                               Tom \n",
              "  Trustee.1                                             Jerry \n",
              "  Trustee.2                                             Micky \n",
              "2 raw                                       Pluto ATF Wangwang\n",
              "  Investor                                            Wangwang\n",
              "  Trustee.0                                             Pluto "
            ]
          },
          "metadata": {
            "tags": []
          },
          "execution_count": 86
        }
      ]
    },
    {
      "cell_type": "markdown",
      "metadata": {
        "id": "5q8BBI1VhKmH"
      },
      "source": [
        "<font size=3.5 color=red>\n",
        "    <b>Need to go further</b>: makes Trustees into multiindex\n",
        "    "
      ]
    },
    {
      "cell_type": "markdown",
      "metadata": {
        "id": "-AiJ5EEzhZ1e"
      },
      "source": [
        "<font size=3.5>\n",
        "    <b>Bonus:</b>\n",
        "    Add condition in Trustee splitting\n",
        "    \n",
        "</font>\n",
        "    "
      ]
    },
    {
      "cell_type": "code",
      "metadata": {
        "id": "1f-FqPHGiZkF",
        "colab": {
          "base_uri": "https://localhost:8080/",
          "height": 514
        },
        "outputId": "5b86ffb6-d212-4d62-8b67-70e4f417cdc6"
      },
      "source": [
        "# Solution 1\n",
        "\n",
        "# Construct demo input\n",
        "qdf = pd.DataFrame([\"Johnson & Yvonne ATF Chen Family Superannuation Fund\",\n",
        "                    \"Johnson & Yvonne Ptd Ltd ATF Chen Family Superannuation Fund\",\n",
        "                   \"Tom & Jerry & Micky ATF Miaomiao\",\n",
        "                   \"Pluto ATF Wangwang\"], columns=['raw'])\n",
        "# split raw text into investor part and trustee part\n",
        "qdf = qdf.join(qdf['raw'].str.split(\"ATF\", expand=True).rename(columns={0: \"Trustee\", 1:\"Investor\"}))\n",
        "# split dataframe into with and without \"Ptd Ltd\"\n",
        "qdf_only = qdf[qdf['Trustee'].str.contains(\"Ptd Ltd\")].rename(columns={\"Trustee\":\"Trustee.0\"})\n",
        "qdf_split = qdf[-qdf['Trustee'].str.contains(\"Ptd Ltd\")]\n",
        "# split those have \"Ptd Ltd\"\n",
        "qdf_split = qdf_split.join(qdf_split['Trustee'].str.split(\"&\",expand=True).add_prefix(\"Trustee.\")).drop(\"Trustee\", axis=1)\n",
        "new_qdf = pd.concat([qdf_split, qdf_only], sort=False).reset_index(drop=True)\n",
        "new_qdf.stack().to_frame()\n",
        "\n",
        "# may be low performance when we have large dataframe"
      ],
      "execution_count": null,
      "outputs": [
        {
          "output_type": "execute_result",
          "data": {
            "text/html": [
              "<div>\n",
              "<style scoped>\n",
              "    .dataframe tbody tr th:only-of-type {\n",
              "        vertical-align: middle;\n",
              "    }\n",
              "\n",
              "    .dataframe tbody tr th {\n",
              "        vertical-align: top;\n",
              "    }\n",
              "\n",
              "    .dataframe thead th {\n",
              "        text-align: right;\n",
              "    }\n",
              "</style>\n",
              "<table border=\"1\" class=\"dataframe\">\n",
              "  <thead>\n",
              "    <tr style=\"text-align: right;\">\n",
              "      <th></th>\n",
              "      <th></th>\n",
              "      <th>0</th>\n",
              "    </tr>\n",
              "  </thead>\n",
              "  <tbody>\n",
              "    <tr>\n",
              "      <th rowspan=\"4\" valign=\"top\">0</th>\n",
              "      <th>raw</th>\n",
              "      <td>Johnson &amp; Yvonne ATF Chen Family Superannuatio...</td>\n",
              "    </tr>\n",
              "    <tr>\n",
              "      <th>Investor</th>\n",
              "      <td>Chen Family Superannuation Fund</td>\n",
              "    </tr>\n",
              "    <tr>\n",
              "      <th>Trustee.0</th>\n",
              "      <td>Johnson</td>\n",
              "    </tr>\n",
              "    <tr>\n",
              "      <th>Trustee.1</th>\n",
              "      <td>Yvonne</td>\n",
              "    </tr>\n",
              "    <tr>\n",
              "      <th rowspan=\"5\" valign=\"top\">1</th>\n",
              "      <th>raw</th>\n",
              "      <td>Tom &amp; Jerry &amp; Micky ATF Miaomiao</td>\n",
              "    </tr>\n",
              "    <tr>\n",
              "      <th>Investor</th>\n",
              "      <td>Miaomiao</td>\n",
              "    </tr>\n",
              "    <tr>\n",
              "      <th>Trustee.0</th>\n",
              "      <td>Tom</td>\n",
              "    </tr>\n",
              "    <tr>\n",
              "      <th>Trustee.1</th>\n",
              "      <td>Jerry</td>\n",
              "    </tr>\n",
              "    <tr>\n",
              "      <th>Trustee.2</th>\n",
              "      <td>Micky</td>\n",
              "    </tr>\n",
              "    <tr>\n",
              "      <th rowspan=\"3\" valign=\"top\">2</th>\n",
              "      <th>raw</th>\n",
              "      <td>Pluto ATF Wangwang</td>\n",
              "    </tr>\n",
              "    <tr>\n",
              "      <th>Investor</th>\n",
              "      <td>Wangwang</td>\n",
              "    </tr>\n",
              "    <tr>\n",
              "      <th>Trustee.0</th>\n",
              "      <td>Pluto</td>\n",
              "    </tr>\n",
              "    <tr>\n",
              "      <th rowspan=\"3\" valign=\"top\">3</th>\n",
              "      <th>raw</th>\n",
              "      <td>Johnson &amp; Yvonne Ptd Ltd ATF Chen Family Super...</td>\n",
              "    </tr>\n",
              "    <tr>\n",
              "      <th>Investor</th>\n",
              "      <td>Chen Family Superannuation Fund</td>\n",
              "    </tr>\n",
              "    <tr>\n",
              "      <th>Trustee.0</th>\n",
              "      <td>Johnson &amp; Yvonne Ptd Ltd</td>\n",
              "    </tr>\n",
              "  </tbody>\n",
              "</table>\n",
              "</div>"
            ],
            "text/plain": [
              "                                                             0\n",
              "0 raw        Johnson & Yvonne ATF Chen Family Superannuatio...\n",
              "  Investor                     Chen Family Superannuation Fund\n",
              "  Trustee.0                                           Johnson \n",
              "  Trustee.1                                            Yvonne \n",
              "1 raw                         Tom & Jerry & Micky ATF Miaomiao\n",
              "  Investor                                            Miaomiao\n",
              "  Trustee.0                                               Tom \n",
              "  Trustee.1                                             Jerry \n",
              "  Trustee.2                                             Micky \n",
              "2 raw                                       Pluto ATF Wangwang\n",
              "  Investor                                            Wangwang\n",
              "  Trustee.0                                             Pluto \n",
              "3 raw        Johnson & Yvonne Ptd Ltd ATF Chen Family Super...\n",
              "  Investor                     Chen Family Superannuation Fund\n",
              "  Trustee.0                          Johnson & Yvonne Ptd Ltd "
            ]
          },
          "metadata": {
            "tags": []
          },
          "execution_count": 131
        }
      ]
    },
    {
      "cell_type": "code",
      "metadata": {
        "id": "YZ20o_HAuThG",
        "colab": {
          "base_uri": "https://localhost:8080/",
          "height": 421
        },
        "outputId": "6a026e9c-f495-480f-dea7-53262b7a958c"
      },
      "source": [
        "# Solution 2\n",
        "\n",
        "# Construct demo input\n",
        "qdf = pd.DataFrame([\"Johnson & Yvonne ATF Chen Family Superannuation Fund\",\n",
        "                    \"Johnson & Yvonne Ptd Ltd ATF Chen Family Superannuation Fund\",\n",
        "                   \"Tom & Jerry & Micky ATF Miaomiao\",\n",
        "                   \"Pluto ATF Wangwang\"], columns=['raw'])\n",
        "# split raw text into investor part and trustee part\n",
        "qdf = qdf.join(qdf['raw'].str.split(\"ATF\", expand=True).rename(columns={0: \"Trustee\", 1:\"Investor\"}))\n",
        "# add condition in splitting\n",
        "qdf.join(qdf['Trustee'].apply(\n",
        "    lambda x: pd.Series(x.split(\"&\")) if \"Ptd Ltd\" not in x else pd.Series([x])).add_prefix(\"Trustee.\")).drop(\"Trustee\", axis=1)\n",
        "# stack columns into row\n",
        "qdf.stack().to_frame()"
      ],
      "execution_count": null,
      "outputs": [
        {
          "output_type": "execute_result",
          "data": {
            "text/html": [
              "<div>\n",
              "<style scoped>\n",
              "    .dataframe tbody tr th:only-of-type {\n",
              "        vertical-align: middle;\n",
              "    }\n",
              "\n",
              "    .dataframe tbody tr th {\n",
              "        vertical-align: top;\n",
              "    }\n",
              "\n",
              "    .dataframe thead th {\n",
              "        text-align: right;\n",
              "    }\n",
              "</style>\n",
              "<table border=\"1\" class=\"dataframe\">\n",
              "  <thead>\n",
              "    <tr style=\"text-align: right;\">\n",
              "      <th></th>\n",
              "      <th></th>\n",
              "      <th>0</th>\n",
              "    </tr>\n",
              "  </thead>\n",
              "  <tbody>\n",
              "    <tr>\n",
              "      <th rowspan=\"3\" valign=\"top\">0</th>\n",
              "      <th>raw</th>\n",
              "      <td>Johnson &amp; Yvonne ATF Chen Family Superannuatio...</td>\n",
              "    </tr>\n",
              "    <tr>\n",
              "      <th>Trustee</th>\n",
              "      <td>Johnson &amp; Yvonne</td>\n",
              "    </tr>\n",
              "    <tr>\n",
              "      <th>Investor</th>\n",
              "      <td>Chen Family Superannuation Fund</td>\n",
              "    </tr>\n",
              "    <tr>\n",
              "      <th rowspan=\"3\" valign=\"top\">1</th>\n",
              "      <th>raw</th>\n",
              "      <td>Johnson &amp; Yvonne Ptd Ltd ATF Chen Family Super...</td>\n",
              "    </tr>\n",
              "    <tr>\n",
              "      <th>Trustee</th>\n",
              "      <td>Johnson &amp; Yvonne Ptd Ltd</td>\n",
              "    </tr>\n",
              "    <tr>\n",
              "      <th>Investor</th>\n",
              "      <td>Chen Family Superannuation Fund</td>\n",
              "    </tr>\n",
              "    <tr>\n",
              "      <th rowspan=\"3\" valign=\"top\">2</th>\n",
              "      <th>raw</th>\n",
              "      <td>Tom &amp; Jerry &amp; Micky ATF Miaomiao</td>\n",
              "    </tr>\n",
              "    <tr>\n",
              "      <th>Trustee</th>\n",
              "      <td>Tom &amp; Jerry &amp; Micky</td>\n",
              "    </tr>\n",
              "    <tr>\n",
              "      <th>Investor</th>\n",
              "      <td>Miaomiao</td>\n",
              "    </tr>\n",
              "    <tr>\n",
              "      <th rowspan=\"3\" valign=\"top\">3</th>\n",
              "      <th>raw</th>\n",
              "      <td>Pluto ATF Wangwang</td>\n",
              "    </tr>\n",
              "    <tr>\n",
              "      <th>Trustee</th>\n",
              "      <td>Pluto</td>\n",
              "    </tr>\n",
              "    <tr>\n",
              "      <th>Investor</th>\n",
              "      <td>Wangwang</td>\n",
              "    </tr>\n",
              "  </tbody>\n",
              "</table>\n",
              "</div>"
            ],
            "text/plain": [
              "                                                            0\n",
              "0 raw       Johnson & Yvonne ATF Chen Family Superannuatio...\n",
              "  Trustee                                   Johnson & Yvonne \n",
              "  Investor                    Chen Family Superannuation Fund\n",
              "1 raw       Johnson & Yvonne Ptd Ltd ATF Chen Family Super...\n",
              "  Trustee                           Johnson & Yvonne Ptd Ltd \n",
              "  Investor                    Chen Family Superannuation Fund\n",
              "2 raw                        Tom & Jerry & Micky ATF Miaomiao\n",
              "  Trustee                                Tom & Jerry & Micky \n",
              "  Investor                                           Miaomiao\n",
              "3 raw                                      Pluto ATF Wangwang\n",
              "  Trustee                                              Pluto \n",
              "  Investor                                           Wangwang"
            ]
          },
          "metadata": {
            "tags": []
          },
          "execution_count": 143
        }
      ]
    },
    {
      "cell_type": "markdown",
      "metadata": {
        "id": "SO4tu0HUGFpg"
      },
      "source": [
        "### 2. Join multiple lists and order them by number of NaN in each row\n",
        "\n",
        "- **20 Attributes**: id, link_to_participant_ratings, round, paper_id, group_id, justifier, justifier_display_name, question, justification, justification_id, vote_count_justification, vote_sum_justification, timestamp_justificaiton, comment, commenter, commenter_display_name, comment_id, vote_count_comment, vote_sum_comment, timestamp_comment\n",
        "- **17 Attributes**: comment_id, justification_id, commenter, justification, row_id, value, vote_sum, round, paper_id, user_name, rater, timestamp, element, vote_count, question, vote, comment\n",
        "\n",
        "- **18 Atrributes**: text unit key, unique id response, link_to_participant_ratings, round, claim_id, group_id, justifier , justifier_display_name, question, justification, justification_id, timestamp_justification, comment, commenter, commenter_display_name, comment_id, timestamp_comment, workshoptext unit key, unique id response, link_to_participant_ratings, round, claim_id, group_id, justifier , justifier_display_name, question, justification, justification_id, timestamp_justification, comment, commenter, commenter_display_name, comment_id, timestamp_comment, workshop"
      ]
    },
    {
      "cell_type": "code",
      "metadata": {
        "id": "Cv99htYHGFOG"
      },
      "source": [
        "def CreateDF(lists_names):\n",
        "    col_list = []\n",
        "    df_list = []\n",
        "    for lis, name in lists_names:\n",
        "        col_list.append(name)\n",
        "        df_list.append(pd.DataFrame(lis, columns=[name]))\n",
        "    return df_list, col_list\n",
        "\n",
        "\n",
        "def OuterJoin(df_l, l_col, df_r, r_col):\n",
        "    \"\"\"\n",
        "    Outer join two dataframes;\n",
        "    Add full-filled column with joining columns\n",
        "    \"\"\"\n",
        "\n",
        "    # Outer join\n",
        "    df_joined = df_l.merge(df_r, left_on=l_col, right_on=r_col, how=\"outer\")\n",
        "    # Add joining column\n",
        "    df_joined[\"join_col_new\"] = df_joined[l_col].fillna(df_joined[r_col])\n",
        "    # Drop redundant column\n",
        "    if \"join_col\" in df_l.columns:\n",
        "        df_joined = df_joined.drop(\"join_col\", axis=1)\n",
        "    df_joined = df_joined.rename(columns={\"join_col_new\": \"join_col\"})\n",
        "    return df_joined\n",
        "\n",
        "\n",
        "def JoinAll(df_list: list, col_list: list, sorted: bool = True):\n",
        "    \"\"\"\n",
        "    Outer join multiple dataframes;\n",
        "    Sort by the number of NaN values\n",
        "    ref: https://stackoverflow.com/questions/45909776/sort-rows-of-a-dataframe-in-descending-order-of-nan-counts\n",
        "    \"\"\"\n",
        "    assert len(df_list) == len(col_list) > 1\n",
        "    max_idx = len(df_list) - 1\n",
        "    idx = 0\n",
        "    while idx <= max_idx:\n",
        "        if idx == 0:\n",
        "            df_joined = OuterJoin(\n",
        "                df_list[idx], col_list[idx], df_list[idx + 1], col_list[idx + 1]\n",
        "            )\n",
        "            idx += 2\n",
        "        else:\n",
        "            df_joined = OuterJoin(df_joined, \"join_col\", df_list[idx], col_list[idx])\n",
        "            idx += 1\n",
        "    if sorted:\n",
        "        df_joined = df_joined.drop(\"join_col\", axis=1)\n",
        "        #         df_joined = df_joined.iloc[df_joined.isnull().sum(1).mul(-1).argsort()[:n]]\n",
        "        #         df_joined.iloc[df_joined.stack().groupby(level=0).count().sort_values(ascending=False).index]\n",
        "        df_joined = df_joined.iloc[\n",
        "            df_joined.isnull().sum(1).sort_values(ascending=True).index\n",
        "        ]\n",
        "    return df_joined\n",
        "\n",
        "attrs_1909 = {'comment',\n",
        " 'comment_id',\n",
        " 'commenter',\n",
        " 'commenter_display_name',\n",
        " 'group_id',\n",
        " 'id',\n",
        " 'justification',\n",
        " 'justification_id',\n",
        " 'justifier',\n",
        " 'justifier_display_name',\n",
        " 'link_to_participant_ratings',\n",
        " 'paper_id',\n",
        " 'question',\n",
        " 'round',\n",
        " 'timestamp_comment',\n",
        " 'timestamp_justificaiton',\n",
        " 'vote_count_comment',\n",
        " 'vote_count_justification',\n",
        " 'vote_sum_comment',\n",
        " 'vote_sum_justification'}\n",
        "\n",
        "\n",
        "attrs_2101 = {'comment',\n",
        " 'comment_id',\n",
        " 'commenter',\n",
        " 'element',\n",
        " 'justification',\n",
        " 'justification_id',\n",
        " 'paper_id',\n",
        " 'question',\n",
        " 'rater',\n",
        " 'round',\n",
        " 'row_id',\n",
        " 'timestamp',\n",
        " 'user_name',\n",
        " 'value',\n",
        " 'vote',\n",
        " 'vote_count',\n",
        " 'vote_sum'}\n",
        "\n",
        "attrs_eg = {'claim_id',\n",
        " 'comment',\n",
        " 'comment_id',\n",
        " 'commenter',\n",
        " 'commenter_display_name',\n",
        " 'group_id',\n",
        " 'justification',\n",
        " 'justification_id',\n",
        " 'justifier ',\n",
        " 'justifier_display_name',\n",
        " 'link_to_participant_ratings',\n",
        " 'question',\n",
        " 'round',\n",
        " 'text unit key',\n",
        " 'timestamp_comment',\n",
        " 'timestamp_justification',\n",
        " 'unique id response',\n",
        " 'workshop'}\n",
        "\n",
        "attrs_rep = {\n",
        "     'rater',\n",
        "     'round',\n",
        "     'row_id',\n",
        "     'timestamp',\n",
        "     'user_name',\n",
        "     'text unit key',\n",
        "     'terstest'\n",
        " }"
      ],
      "execution_count": null,
      "outputs": []
    },
    {
      "cell_type": "code",
      "metadata": {
        "id": "yyuCI5hGHg74"
      },
      "source": [
        "attr_dfs, attrs = CreateDF(\n",
        "    [(attrs_1909, \"attrs_1909\"), \n",
        "     (attrs_2101, \"attrs_2101\"), \n",
        "     (attrs_eg, \"attrs_eg\"),\n",
        "     (attrs_rep, \"attrs_rep\")]\n",
        ")\n",
        "JoinAll(attr_dfs, attrs).to_csv(\"test.csv\", index=False)"
      ],
      "execution_count": null,
      "outputs": []
    },
    {
      "cell_type": "markdown",
      "metadata": {
        "id": "wAjxmyRxc6aO"
      },
      "source": [
        "### 3. Expand time range to different periods of dates"
      ]
    },
    {
      "cell_type": "code",
      "metadata": {
        "id": "TpIF9YtMc7iU"
      },
      "source": [
        "def TimeRange_convert(start_date: str, end_date: str, freq=\"D\"):\n",
        "\n",
        "    '''\n",
        "    Given start date and end date, expand them into a series of dates\n",
        "    Return: DatetimeIndex of Pandas\n",
        "    '''\n",
        "\n",
        "    if freq == \"D\":\n",
        "        return pd.date_range(*[start_date, end_date], freq=freq)\n",
        "    elif freq == \"M\":\n",
        "        return (\n",
        "            pd.date_range(\n",
        "                *(pd.to_datetime([start_date, end_date]) + pd.offsets.MonthEnd()),\n",
        "                freq=freq,\n",
        "            )\n",
        "            .to_period(\"M\")\n",
        "            .to_timestamp()\n",
        "        )\n",
        "    elif freq == \"Y\":\n",
        "        return pd.date_range(\n",
        "            *(pd.to_datetime([start_date, end_date]) + pd.offsets.YearEnd()), freq=freq\n",
        "        ).year"
      ],
      "execution_count": null,
      "outputs": []
    },
    {
      "cell_type": "code",
      "metadata": {
        "colab": {
          "base_uri": "https://localhost:8080/"
        },
        "id": "WiGyV7dwdcNV",
        "outputId": "c350ab21-11a4-4f83-bcb7-47a5c60398ba"
      },
      "source": [
        "TimeRange_convert(\"20210131\", \"20210401\")"
      ],
      "execution_count": null,
      "outputs": [
        {
          "output_type": "execute_result",
          "data": {
            "text/plain": [
              "DatetimeIndex(['2021-01-31', '2021-02-01', '2021-02-02', '2021-02-03',\n",
              "               '2021-02-04', '2021-02-05', '2021-02-06', '2021-02-07',\n",
              "               '2021-02-08', '2021-02-09', '2021-02-10', '2021-02-11',\n",
              "               '2021-02-12', '2021-02-13', '2021-02-14', '2021-02-15',\n",
              "               '2021-02-16', '2021-02-17', '2021-02-18', '2021-02-19',\n",
              "               '2021-02-20', '2021-02-21', '2021-02-22', '2021-02-23',\n",
              "               '2021-02-24', '2021-02-25', '2021-02-26', '2021-02-27',\n",
              "               '2021-02-28', '2021-03-01', '2021-03-02', '2021-03-03',\n",
              "               '2021-03-04', '2021-03-05', '2021-03-06', '2021-03-07',\n",
              "               '2021-03-08', '2021-03-09', '2021-03-10', '2021-03-11',\n",
              "               '2021-03-12', '2021-03-13', '2021-03-14', '2021-03-15',\n",
              "               '2021-03-16', '2021-03-17', '2021-03-18', '2021-03-19',\n",
              "               '2021-03-20', '2021-03-21', '2021-03-22', '2021-03-23',\n",
              "               '2021-03-24', '2021-03-25', '2021-03-26', '2021-03-27',\n",
              "               '2021-03-28', '2021-03-29', '2021-03-30', '2021-03-31',\n",
              "               '2021-04-01'],\n",
              "              dtype='datetime64[ns]', freq='D')"
            ]
          },
          "metadata": {
            "tags": []
          },
          "execution_count": 15
        }
      ]
    },
    {
      "cell_type": "markdown",
      "metadata": {
        "id": "suDpgQ6UqtNZ"
      },
      "source": [
        "## IO tools"
      ]
    },
    {
      "cell_type": "markdown",
      "metadata": {
        "id": "GMBCNqMQrXG0"
      },
      "source": [
        "### CSV & text files\n",
        "<font size=3.5>\n",
        "\n",
        "*   Specifying column data types\n",
        "        dtype=...\n",
        "        converter=...\n",
        "*   Specifying categorical dtype\n",
        "        dtype='category'\n",
        "        CategoricalDtype()\n",
        "        Categorical.set_categories()\n",
        "*   Naming and using columns\n",
        "> *   Handling column names\n",
        "            names=...\n",
        "            header=..\n",
        "> *   Duplicate names parsing\n",
        "            mangle_dipe_cols=...\n",
        "> *   Filtering columns (usecols)\n",
        "            usecols=...\n",
        "    \n",
        "*   Comments and empty lines\n",
        "> *   Ignoring line comments and empty lines\n",
        "            comment=...\n",
        "            skip_blank_lines=..\n",
        "            skiprows=...\n",
        "> *   Comments\n",
        "            comment=...\n",
        "    \n",
        "*   Dealing with Unicode data\n",
        "        encoding=...\n",
        "*   Index columns and trailing delimiters    \n",
        "        usecols=...\n",
        "        index_col=...\n",
        "*   Date Handling\n",
        "> *   Specifying date columns\n",
        "            parse_dates=date_spec\n",
        "> *   Date parsing functions<br>\n",
        "            parse_date=...\n",
        "            keep_date_col=...\n",
        "            pd.to_datetime(): date_parser=lambda x: pd.to_datetime(x, format=...).\n",
        "> *   Parsing a CSV with mixed timezones<br>\n",
        "            date_parser using to_datetime()\n",
        "> *   International date formats\n",
        "            dayfirst=Ture\n",
        "*   Specifying method for floating-point conversion\n",
        "        engine='c'\n",
        "        float_precision=...\n",
        "*   Thousand separators\n",
        "        thousands=...\n",
        "*   NA values\n",
        "        na_values=...\n",
        "        keeep_defalut_na=...\n",
        "*   Infinity\n",
        "*   Returning Series\n",
        "        squeeze=...\n",
        "*   Boolean values\n",
        "        true_values=... + false_values=...\n",
        "*   Handling “bad” lines(skip them)\n",
        "        error_bad_lines=False\n",
        "*   <font color=orange>Dialect</font>\n",
        "        dialet=...\n",
        "        linetermininator=...\n",
        "        skipinitialspace=...\n",
        "*   Quoting and Escape Characters\n",
        "        escapechar=...\n",
        "*   Files wih fixed width columns\n",
        "            read_fwf(colspecs=..., widths=...)\n",
        "*   Index\n",
        "> *   Files with an “implicit” index column\n",
        "            parse_dates=True: when date is the one less entry in the header than the number of data column\n",
        "> *   Reading an index with a MultiIndex\n",
        "            index_col=...\n",
        "            from pandas.util.testing import makeCustomDataframe as mkdf\n",
        "*   Automatically “sniffing” the delimiter\n",
        "            <b>sep=None</b>, engine='python'\n",
        "*   Reading multiple files to create a single DataFrame\n",
        "        concat()\n",
        "*   Iterating through files chunk by chunk\n",
        "        chunksize=... >> return iterable object of type TextFileReader\n",
        "        iterator=True >> return the TextFileReader object\n",
        "*   Specifying the parser engine\n",
        "    mind that there are some options that are C-unsupported\n",
        "*   Reading remote files\n",
        "    a URL can be passed to a CSV file"
      ]
    },
    {
      "cell_type": "markdown",
      "metadata": {
        "id": "GoCYuvx2rXPc"
      },
      "source": [
        "### JSON\n",
        "<font size=3.5>\n",
        "\n",
        "\n",
        "*   Writing JSON\n",
        "> *   orient options\n",
        "            \"columns\"\n",
        "            \"index\"\n",
        "            \"records\"\n",
        "            \"value\"\n",
        "            \"split\"\n",
        "> *   Date handling\n",
        "            date_format=...\n",
        "            date_unit=...\n",
        "> *   <font color=orange>Fallback behavior</font>         \n",
        "        default_handler=...\n",
        "*   Reading JSON\n",
        "> *   The Numpy parameter\n",
        "            numpy=...\n",
        "> *   <font color=orange>Normalization</font>\n",
        "            json_normalize()\n",
        "> *   Line delimited json(common in Spark and Hadoop)\n",
        "            lines=True\n",
        "> *   Get table schema from data\n",
        "            orient='table'\n",
        "            build_table_schema(data)\n",
        "    "
      ]
    },
    {
      "cell_type": "markdown",
      "metadata": {
        "id": "QhE-moTlrXSl"
      },
      "source": [
        "### Excel files\n",
        "<font size=3.5>\n",
        "\n",
        "\n",
        "*   ExcelFile class\n",
        "> *   with pd.ExcelFile() as xls:\n",
        "> *   sheet_names=...\n",
        "*   Specifying sheets\n",
        "*   Reading a MultiIndex\n",
        "        index=pd.MultiIndex.from_product()\n",
        "        index_col=... + header=...\n",
        "*   Parsing specific columns\n",
        "        usecols=...\n",
        "*   Prasing dates\n",
        "        parse_dates=...\n",
        "*   Cell converters\n",
        "        converters=...\n",
        "*   Dtype specifications\n",
        "        dtype=...\n",
        "*   Writing Excel files to disk\n",
        "        DataFrame.to_excel()\n",
        "*   Writing Excel files to memory\n",
        "        see example below\n",
        "*   OpenDocument Spreadsheets\n",
        "        engine='odf'\n",
        "*   Style and formatting\n",
        "        float_format\n",
        "\n",
        "</font>"
      ]
    },
    {
      "cell_type": "code",
      "metadata": {
        "id": "F_M_Py65Rue6"
      },
      "source": [
        "# By setting the 'engine' in the DataFrame 'to_excel()' methods.\n",
        "df.to_excel('path_to_file.xlsx', sheet_name='Sheet1', engine='xlsxwriter')\n",
        "\n",
        "# By setting the 'engine' in the ExcelWriter constructor.\n",
        "writer = pd.ExcelWriter('path_to_file.xlsx', engine='xlsxwriter')\n",
        "\n",
        "# Or via pandas configuration.\n",
        "from pandas import options                                     # noqa: E402\n",
        "options.io.excel.xlsx.writer = 'xlsxwriter'\n",
        "\n",
        "df.to_excel('path_to_file.xlsx', sheet_name='Sheet1')"
      ],
      "execution_count": null,
      "outputs": []
    },
    {
      "cell_type": "markdown",
      "metadata": {
        "id": "GiPWxGZBrXWG"
      },
      "source": [
        "### Clipboard\n",
        "<font size=3.5>\n",
        "    pd.read_clipboard()\n",
        "\n",
        "</font>"
      ]
    },
    {
      "cell_type": "markdown",
      "metadata": {
        "id": "ZFmtHHveXOWq"
      },
      "source": [
        ""
      ]
    },
    {
      "cell_type": "markdown",
      "metadata": {
        "id": "fh5U3wDBFs-D"
      },
      "source": [
        "## Object Creation"
      ]
    },
    {
      "cell_type": "markdown",
      "metadata": {
        "id": "RR53WbPqF7_T"
      },
      "source": [
        "<font size=3.5>\n",
        "    Creating a <b>Series</b> by passing a list of values, letting pandas create a default integer index:\n",
        "</font>"
      ]
    },
    {
      "cell_type": "code",
      "metadata": {
        "id": "jZFVm5NoGPnr",
        "colab": {
          "base_uri": "https://localhost:8080/",
          "height": 139
        },
        "outputId": "33f0b4ce-8e83-469a-8067-bab3c3dda3a2"
      },
      "source": [
        "s = pd.Series([1, 3, 5, np.nan, 6, 8])\n",
        "s"
      ],
      "execution_count": null,
      "outputs": [
        {
          "output_type": "execute_result",
          "data": {
            "text/plain": [
              "0    1.0\n",
              "1    3.0\n",
              "2    5.0\n",
              "3    NaN\n",
              "4    6.0\n",
              "5    8.0\n",
              "dtype: float64"
            ]
          },
          "metadata": {
            "tags": []
          },
          "execution_count": 79
        }
      ]
    },
    {
      "cell_type": "markdown",
      "metadata": {
        "id": "GLf6MzKGGWiT"
      },
      "source": [
        "# Sci-kit learn"
      ]
    },
    {
      "cell_type": "markdown",
      "metadata": {
        "id": "2RY3lTGj2nn3"
      },
      "source": [
        "## Preprocessing"
      ]
    },
    {
      "cell_type": "code",
      "metadata": {
        "id": "D1u5Y1N-zfZI"
      },
      "source": [
        ""
      ],
      "execution_count": null,
      "outputs": []
    },
    {
      "cell_type": "markdown",
      "metadata": {
        "id": "E_2uFFH62zqy"
      },
      "source": [
        "## PCA (Principal Component Analysis)"
      ]
    },
    {
      "cell_type": "markdown",
      "metadata": {
        "id": "RDiDhpVwUQyJ"
      },
      "source": [
        "### Grid Search among different models\n",
        "\n",
        "[“Parallel” pipeline to get best model using gridsearch](https://stackoverflow.com/questions/42266737/parallel-pipeline-to-get-best-model-using-gridsearch)\n",
        "\n",
        "Check my COMP90051_2019_Project1/COMP90051_2019_Project1_Model_Training.ipynb"
      ]
    },
    {
      "cell_type": "markdown",
      "metadata": {
        "id": "8jvY8LYmvVT2"
      },
      "source": [
        "# Plotting"
      ]
    },
    {
      "cell_type": "markdown",
      "metadata": {
        "id": "Np9_EYocvZh5"
      },
      "source": [
        "### Venn Diagram\n",
        "\n",
        "[matplotlib-venn](https://pypi.org/project/matplotlib-venn/)"
      ]
    },
    {
      "cell_type": "code",
      "metadata": {
        "colab": {
          "base_uri": "https://localhost:8080/"
        },
        "id": "Xbn_Op5CwDM3",
        "outputId": "8fb0f587-6da3-499f-8211-b8e530bc2340"
      },
      "source": [
        "!pip install matplotlib-venn\n",
        "from matplotlib import pyplot as plt\n",
        "import numpy as np\n",
        "from matplotlib_venn import venn3, venn3_circles\n",
        "from matplotlib_venn import venn2, venn2_circles"
      ],
      "execution_count": null,
      "outputs": [
        {
          "output_type": "stream",
          "text": [
            "Requirement already satisfied: matplotlib-venn in /usr/local/lib/python3.7/dist-packages (0.11.6)\n",
            "Requirement already satisfied: matplotlib in /usr/local/lib/python3.7/dist-packages (from matplotlib-venn) (3.2.2)\n",
            "Requirement already satisfied: numpy in /usr/local/lib/python3.7/dist-packages (from matplotlib-venn) (1.19.5)\n",
            "Requirement already satisfied: scipy in /usr/local/lib/python3.7/dist-packages (from matplotlib-venn) (1.4.1)\n",
            "Requirement already satisfied: pyparsing!=2.0.4,!=2.1.2,!=2.1.6,>=2.0.1 in /usr/local/lib/python3.7/dist-packages (from matplotlib->matplotlib-venn) (2.4.7)\n",
            "Requirement already satisfied: python-dateutil>=2.1 in /usr/local/lib/python3.7/dist-packages (from matplotlib->matplotlib-venn) (2.8.1)\n",
            "Requirement already satisfied: cycler>=0.10 in /usr/local/lib/python3.7/dist-packages (from matplotlib->matplotlib-venn) (0.10.0)\n",
            "Requirement already satisfied: kiwisolver>=1.0.1 in /usr/local/lib/python3.7/dist-packages (from matplotlib->matplotlib-venn) (1.3.1)\n",
            "Requirement already satisfied: six>=1.5 in /usr/local/lib/python3.7/dist-packages (from python-dateutil>=2.1->matplotlib->matplotlib-venn) (1.15.0)\n"
          ],
          "name": "stdout"
        }
      ]
    },
    {
      "cell_type": "code",
      "metadata": {
        "colab": {
          "base_uri": "https://localhost:8080/",
          "height": 253
        },
        "id": "Rh6XWIeXwgqy",
        "outputId": "c3dd077b-4ff6-4da6-cd97-e89a59d83bfc"
      },
      "source": [
        "set1 = set(['A', 'B', 'C', 'D'])\n",
        "set2 = set(['B', 'C', 'D', 'E'])\n",
        "set3 = set(['C', 'D',' E', 'F', 'G'])\n",
        "\n",
        "venn3([set1, set2, set3], ('Set1', 'Set2', 'Set3'))\n",
        "plt.show()"
      ],
      "execution_count": null,
      "outputs": [
        {
          "output_type": "display_data",
          "data": {
            "image/png": "[encoded data removed]",
            "text/plain": [
              "<Figure size 432x288 with 1 Axes>"
            ]
          },
          "metadata": {
            "tags": []
          }
        }
      ]
    },
    {
      "cell_type": "code",
      "metadata": {
        "id": "FM0nrJKZ2-IC",
        "colab": {
          "base_uri": "https://localhost:8080/",
          "height": 267
        },
        "outputId": "b380d89f-016f-444e-8d16-a1302328a90a"
      },
      "source": [
        "plt.figure(figsize=(4,4))\n",
        "v = venn3(subsets=(1, 1, 1, 1, 1, 1, 1), set_labels = ('A', 'B', 'C'))\n",
        "v.get_patch_by_id('100').set_alpha(1.0)\n",
        "v.get_patch_by_id('100').set_color('white')\n",
        "v.get_label_by_id('100').set_text('Unknown')\n",
        "v.get_label_by_id('A').set_text('Set \"A\"')\n",
        "c = venn3_circles(subsets=(1, 1, 1, 1, 1, 1, 1), linestyle='dashed')\n",
        "c[0].set_lw(1.0)\n",
        "c[0].set_ls('dotted')\n",
        "plt.title(\"Sample Venn diagram\")\n",
        "plt.annotate('Unknown set', xy=v.get_label_by_id('100').get_position() - np.array([0, 0.05]), xytext=(-70,-70),\n",
        "             ha='center', textcoords='offset points', bbox=dict(boxstyle='round,pad=0.5', fc='gray', alpha=0.1),\n",
        "             arrowprops=dict(arrowstyle='->', connectionstyle='arc3,rad=0.5',color='gray'))\n",
        "plt.show()"
      ],
      "execution_count": null,
      "outputs": [
        {
          "output_type": "display_data",
          "data": {
            "image/png": "[encoded data removed]",
            "text/plain": [
              "<Figure size 288x288 with 1 Axes>"
            ]
          },
          "metadata": {
            "tags": []
          }
        }
      ]
    },
    {
      "cell_type": "code",
      "metadata": {
        "colab": {
          "base_uri": "https://localhost:8080/",
          "height": 257
        },
        "id": "5NsOhpjQwFLe",
        "outputId": "211c5d61-e75f-4cbd-b16c-0c683f275658"
      },
      "source": [
        "figure, axes = plt.subplots(2, 2)\n",
        "venn2(subsets={'10': 1, '01': 1, '11': 1}, set_labels = ('A', 'B'), ax=axes[0][0])\n",
        "venn2_circles((1, 2, 3), ax=axes[0][1])\n",
        "venn3(subsets=(1, 1, 1, 1, 1, 1, 1), set_labels = ('A', 'B', 'C'), ax=axes[1][0])\n",
        "venn3_circles({'001': 10, '100': 20, '010': 21, '110': 13, '011': 14}, ax=axes[1][1])\n",
        "plt.show()"
      ],
      "execution_count": null,
      "outputs": [
        {
          "output_type": "display_data",
          "data": {
            "image/png": "[encoded data removed]",
            "text/plain": [
              "<Figure size 432x288 with 4 Axes>"
            ]
          },
          "metadata": {
            "tags": []
          }
        }
      ]
    },
    {
      "cell_type": "code",
      "metadata": {
        "id": "tVhvPfBIwrO-"
      },
      "source": [
        ""
      ],
      "execution_count": null,
      "outputs": []
    }
  ]
}