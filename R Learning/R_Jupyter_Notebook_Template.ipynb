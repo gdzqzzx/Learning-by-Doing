{
  "nbformat": 4,
  "nbformat_minor": 0,
  "metadata": {
    "colab": {
      "name": "R-Jupyter Notebook Template",
      "provenance": [],
      "collapsed_sections": []
    },
    "kernelspec": {
      "name": "ir",
      "display_name": "R"
    },
    "language_info": {
      "name": "R"
    }
  },
  "cells": [
    {
      "cell_type": "markdown",
      "metadata": {
        "id": "g_G_UdpZtbT6"
      },
      "source": [
        "If you run the following code (in a common Colab Jupyter notebook), you will find that a R kernel is installed in the environment.<br>\n",
        "\n",
        "```\n",
        "!jupyter-kernelspec list \n",
        "```\n",
        "\n",
        "How can we set up a R-Jupyter Notebook running in Colab? Here are 2 approaches:\n",
        "\n",
        "1.   Save a copy of this template into your google drive and run it directly.\n",
        "2.   Open a new jupyter notebook with notepad and edit the metadata as follows:\n",
        "```\n",
        "\"kernelspec\": {\n",
        "        \"name\": \"ir\",\n",
        "        \"display_name\": \"R\"\n",
        "},\n",
        "\"language_info\": {\n",
        "        \"name\": \"R\"\n",
        "}\n",
        "```\n",
        "\n",
        "***Reference: [How to use R with Google Colaboratory?](https://stackoverflow.com/questions/54595285/how-to-use-r-with-google-colaboratory)***\n",
        "\n",
        "\n",
        "✨✨✨✨✨\n",
        "\n",
        "**Please know that this template is developed for Google Colaboratory only.**\n",
        "\n",
        "If you want to run R with jupyter notebook in your local environment, please follow the instruction: [Using the R programming language in Jupyter Notebook](https://docs.anaconda.com/anaconda/navigator/tutorials/r-lang/). \n"
      ]
    },
    {
      "cell_type": "code",
      "metadata": {
        "id": "yxi2Fn8SjuFS"
      },
      "source": [
        "# install.packages('ggplot2')\n",
        "# library(\"ggplot2\")"
      ],
      "execution_count": null,
      "outputs": []
    }
  ]
}